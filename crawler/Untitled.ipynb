{
 "cells": [
  {
   "cell_type": "code",
   "execution_count": 1,
   "id": "challenging-child",
   "metadata": {},
   "outputs": [],
   "source": [
    "\n",
    "import re\n",
    "import requests\n",
    "from bs4 import BeautifulSoup\n",
    "\n",
    "urlSample = \"http://www.nettruyen.com/tim-truyen?page={}\"\n",
    "\n",
    "headers = {\n",
    "    \"Referer\": \"http://www.nettruyen.com/\",\n",
    "    \"Origin\": \"http://www.nettruyen.com\",\n",
    "    \"Host\": \"www.nettruyen.com\"\n",
    "}\n",
    "\n",
    "response = requests.get(urlSample.format(1), headers = headers).text\n",
    "\n",
    "soup = BeautifulSoup(response, \"html.parser\")\n"
   ]
  },
  {
   "cell_type": "code",
   "execution_count": 5,
   "id": "accepting-light",
   "metadata": {},
   "outputs": [
    {
     "data": {
      "text/plain": [
       "<div class=\"item\">\n",
       "<figure class=\"clearfix\">\n",
       "<div class=\"image\">\n",
       "<a href=\"http://www.nettruyen.com/truyen-tranh/neko-no-otera-no-chion-san-39125\" title=\"Truyện tranh Neko No Otera No Chion-San\">\n",
       "<img alt=\"Truyện tranh Neko No Otera No Chion-San\" class=\"lazy\" data-original=\"//st.imageinstant.net/data/comics/213/neko-no-otera-no-chion-san.jpg\" src=\"//st.nettruyen.com/data/logos/logo-nettruyen.png\"/>\n",
       "</a>\n",
       "<div class=\"view clearfix\">\n",
       "<span class=\"pull-left\">\n",
       "<i class=\"fa fa-eye\">\n",
       "</i> 21.855 <i class=\"fa fa-comment\"></i> 24 <i class=\"fa fa-heart\"></i> 515</span>\n",
       "</div>\n",
       "</div>\n",
       "<figcaption>\n",
       "<h3>\n",
       "<a class=\"jtip\" data-jtip=\"#truyen-tranh-39125\" href=\"http://www.nettruyen.com/truyen-tranh/neko-no-otera-no-chion-san-39125\">Neko No Otera No Chion-San</a>\n",
       "</h3><ul><li class=\"chapter clearfix\"><a href=\"http://www.nettruyen.com/truyen-tranh/neko-no-otera-no-chion-san/chap-9/700551\" title=\"Chapter 9\">Chapter 9</a><i class=\"time\">2 giờ trước</i></li><li class=\"chapter clearfix\"><a href=\"http://www.nettruyen.com/truyen-tranh/neko-no-otera-no-chion-san/chap-8/700489\" title=\"Chapter 8\">Chapter 8</a><i class=\"time\">11 giờ trước</i></li><li class=\"chapter clearfix\"><a href=\"http://www.nettruyen.com/truyen-tranh/neko-no-otera-no-chion-san/chap-7/700355\" title=\"Chapter 7\">Chapter 7</a><i class=\"time\">17 giờ trước</i></li></ul></figcaption>\n",
       "</figure>\n",
       "<div class=\"box_tootip\" id=\"truyen-tranh-39125\" style=\"display:none;\">\n",
       "<div class=\"box_li\">\n",
       "<div class=\"title\">Neko No Otera No Chion-San</div>\n",
       "<div class=\"clearfix\">\n",
       "<div class=\"box_img\">\n",
       "<a href=\"http://www.nettruyen.com/truyen-tranh/neko-no-otera-no-chion-san-39125\" title=\"Neko No Otera No Chion-San\">\n",
       "<img alt=\"Neko No Otera No Chion-San\" class=\"img_a\" data-original=\"//st.imageinstant.net/data/comics/213/neko-no-otera-no-chion-san.jpg\" src=\"data:image/gif;base64,R0lGODlhAQABAIAAAAAAAP///yH5BAEAAAAALAAAAAABAAEAAAIBRAA7\"/>\n",
       "</a>\n",
       "</div>\n",
       "<div class=\"message_main\">\n",
       "<p>\n",
       "<label>Tên khác:</label>Chion vợ iu</p>\n",
       "<p>\n",
       "<label>Thể loại:</label>Comedy, Manga, Romance, Seinen, Slice of Life</p>\n",
       "<p>\n",
       "<label>Tác giả:</label>Ojiro Makoto</p>\n",
       "<p>\n",
       "<label>Tình trạng:</label>Đang tiến hành</p>\n",
       "<p>\n",
       "<label>Lượt xem:</label>21.855</p>\n",
       "<p>\n",
       "<label>Bình luận:</label>24</p>\n",
       "<p>\n",
       "<label>Theo dõi:</label>515</p>\n",
       "<p>\n",
       "<label>Ngày cập nhật:</label>2 giờ trước</p>\n",
       "</div>\n",
       "</div>\n",
       "<div class=\"box_text\">Chuyện đời thường siêu ngọt ngào</div>\n",
       "</div>\n",
       "</div>\n",
       "</div>"
      ]
     },
     "execution_count": 5,
     "metadata": {},
     "output_type": "execute_result"
    }
   ],
   "source": [
    "\n",
    "items = soup.find_all(\"div\", class_=\"item\")\n",
    "items[11]"
   ]
  },
  {
   "cell_type": "code",
   "execution_count": 3,
   "id": "herbal-south",
   "metadata": {},
   "outputs": [
    {
     "data": {
      "text/plain": [
       "'Một câu chuyện về tình yêu và hi vọng ,Tonikaku kawaii theo chân nhân vật chính với cái tên kì quặc Yuzaki Nasa ( Có ý nghĩa là bầu trời đầy sao theo tiếng nhật) ,Vào một ngày định mệnh ,chuẩn bị cho kì thi đầu vào quan trọng cậu gặp được một cô gái xinh đẹp. Với Nasa-kun đó dường như là định mệnh đang vẫy gọi mình rằng mình chính thức có gấu chó nhưng ngờ đâu…'"
      ]
     },
     "execution_count": 3,
     "metadata": {},
     "output_type": "execute_result"
    }
   ],
   "source": [
    "items[0].find(\"div\", class_=\"box_text\").get_text()"
   ]
  },
  {
   "cell_type": "code",
   "execution_count": 4,
   "id": "southwest-provider",
   "metadata": {},
   "outputs": [
    {
     "data": {
      "text/plain": [
       "'//st.imageinstant.net/data/comics/56/tough-miyazawa-kiichi.jpg'"
      ]
     },
     "execution_count": 4,
     "metadata": {},
     "output_type": "execute_result"
    }
   ],
   "source": [
    "items[0].find(\"img\", class_=\"lazy\")['src']"
   ]
  },
  {
   "cell_type": "code",
   "execution_count": 34,
   "id": "speaking-capital",
   "metadata": {},
   "outputs": [],
   "source": [
    "a = items[0].select(\"div figure div a\")[0]['href']"
   ]
  },
  {
   "cell_type": "code",
   "execution_count": 39,
   "id": "excited-intelligence",
   "metadata": {},
   "outputs": [
    {
     "data": {
      "text/plain": [
       "'9016'"
      ]
     },
     "execution_count": 39,
     "metadata": {},
     "output_type": "execute_result"
    }
   ],
   "source": [
    "id = re.findall(r'\\d+', a)\n",
    "id[len(id)-1]"
   ]
  },
  {
   "cell_type": "code",
   "execution_count": 6,
   "id": "lined-collection",
   "metadata": {},
   "outputs": [
    {
     "data": {
      "text/plain": [
       "'//st.imageinstant.net/data/comics/56/tough-miyazawa-kiichi.jpg'"
      ]
     },
     "execution_count": 6,
     "metadata": {},
     "output_type": "execute_result"
    }
   ],
   "source": [
    "items[0].select(\"div figure div a img\")[0]['src']"
   ]
  },
  {
   "cell_type": "code",
   "execution_count": 11,
   "id": "earlier-progressive",
   "metadata": {},
   "outputs": [],
   "source": [
    "i = items[11].find(\"div\", class_=\"message_main\")\n"
   ]
  },
  {
   "cell_type": "code",
   "execution_count": 12,
   "id": "random-addiction",
   "metadata": {},
   "outputs": [
    {
     "data": {
      "text/plain": [
       "['Chion vợ iu']"
      ]
     },
     "execution_count": 12,
     "metadata": {},
     "output_type": "execute_result"
    }
   ],
   "source": [
    "reAlias = re.findall(r'Tên khác:</label>(.+?)</p>', str(i))\n",
    "if (len(reAlias) > 0):\n",
    "    alias = reAlias[0].split(',')\n",
    "    for i in range(0, len(alias)):\n",
    "        alias[i] = alias[i].strip()\n",
    "else:\n",
    "    alias = []\n",
    "alias"
   ]
  },
  {
   "cell_type": "code",
   "execution_count": 26,
   "id": "pointed-exhibition",
   "metadata": {},
   "outputs": [],
   "source": [
    "x = re.findall(r'</label>(.+)</p>', str(i))"
   ]
  },
  {
   "cell_type": "code",
   "execution_count": 53,
   "id": "laughing-google",
   "metadata": {},
   "outputs": [],
   "source": []
  },
  {
   "cell_type": "code",
   "execution_count": 55,
   "id": "artistic-bidding",
   "metadata": {},
   "outputs": [],
   "source": []
  },
  {
   "cell_type": "code",
   "execution_count": 27,
   "id": "intended-collapse",
   "metadata": {},
   "outputs": [
    {
     "data": {
      "text/plain": [
       "['Manga, Martial Arts, Sports, Tragedy',\n",
       " 'Saruwatari Tetsuya',\n",
       " 'Đang tiến hành',\n",
       " '3.071.589',\n",
       " '44',\n",
       " '4.550',\n",
       " '35 phút trước']"
      ]
     },
     "execution_count": 27,
     "metadata": {},
     "output_type": "execute_result"
    }
   ],
   "source": [
    "x"
   ]
  },
  {
   "cell_type": "code",
   "execution_count": 28,
   "id": "polished-amendment",
   "metadata": {},
   "outputs": [
    {
     "data": {
      "text/plain": [
       "'Manga, Martial Arts, Sports, Tragedy'"
      ]
     },
     "execution_count": 28,
     "metadata": {},
     "output_type": "execute_result"
    }
   ],
   "source": [
    "x[0]"
   ]
  },
  {
   "cell_type": "code",
   "execution_count": 31,
   "id": "manufactured-graduate",
   "metadata": {},
   "outputs": [],
   "source": [
    "arr = x[0].split(',') "
   ]
  },
  {
   "cell_type": "code",
   "execution_count": 32,
   "id": "fabulous-january",
   "metadata": {},
   "outputs": [
    {
     "data": {
      "text/plain": [
       "['Manga', ' Martial Arts', ' Sports', ' Tragedy']"
      ]
     },
     "execution_count": 32,
     "metadata": {},
     "output_type": "execute_result"
    }
   ],
   "source": [
    "arr"
   ]
  },
  {
   "cell_type": "code",
   "execution_count": null,
   "id": "changing-contract",
   "metadata": {},
   "outputs": [],
   "source": []
  }
 ],
 "metadata": {
  "kernelspec": {
   "display_name": "Python 3",
   "language": "python",
   "name": "python3"
  },
  "language_info": {
   "codemirror_mode": {
    "name": "ipython",
    "version": 3
   },
   "file_extension": ".py",
   "mimetype": "text/x-python",
   "name": "python",
   "nbconvert_exporter": "python",
   "pygments_lexer": "ipython3",
   "version": "3.8.5"
  }
 },
 "nbformat": 4,
 "nbformat_minor": 5
}
